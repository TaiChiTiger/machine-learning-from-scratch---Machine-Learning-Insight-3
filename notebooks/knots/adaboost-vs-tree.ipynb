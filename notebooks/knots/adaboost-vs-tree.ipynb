{
 "cells": [
  {
   "cell_type": "code",
   "execution_count": null,
   "metadata": {},
   "outputs": [],
   "source": [
    "from sklearn.tree import DecisionTreeClassifier\n",
    "\n",
    "stump = DecisionTreeClassifier(max_depth=1)\n",
    "stump.fit(X_train, y_train)\n",
    "stump_err = 1 - stump.score(X_test, y_test)\n",
    "tree = DecisionTreeClassifier(max_leaf_nodes=244)\n",
    "tree.fit(X_train, y_train)\n",
    "tree_err = 1 - tree.score(X_test, y_test)"
   ]
  },
  {
   "cell_type": "code",
   "execution_count": null,
   "metadata": {},
   "outputs": [],
   "source": [
    "n_estimators_lst =  [1] + np.arange(10, 505, 5).tolist()\n",
    "ada_errs = []\n",
    "for i in n_estimators_lst:\n",
    "    ada = AdaBoostClassifier(learning_rate=0.03, n_estimators=i)\n",
    "    ada.fit(X_train, y_train)\n",
    "    ada_errs.append(1 - ada.score(X_test, y_test))"
   ]
  },
  {
   "cell_type": "code",
   "execution_count": null,
   "metadata": {},
   "outputs": [],
   "source": [
    "plt.figure(figsize=(8, 6))\n",
    "plt.plot([0, 500], [stump_err, stump_err], \"k--\", label=\"Single Stump\")\n",
    "plt.plot([0, 500], [tree_err, tree_err], \"k-.\", label=\"244 Node Tree\")\n",
    "plt.plot(n_estimators_lst, ada_errs, c=\"orange\")\n",
    "plt.legend()\n",
    "plt.show()"
   ]
  }
 ],
 "metadata": {
  "kernelspec": {
   "display_name": "mlproduct",
   "language": "python",
   "name": "mlproduct"
  },
  "language_info": {
   "codemirror_mode": {
    "name": "ipython",
    "version": 3
   },
   "file_extension": ".py",
   "mimetype": "text/x-python",
   "name": "python",
   "nbconvert_exporter": "python",
   "pygments_lexer": "ipython3",
   "version": "3.6.9"
  }
 },
 "nbformat": 4,
 "nbformat_minor": 2
}
