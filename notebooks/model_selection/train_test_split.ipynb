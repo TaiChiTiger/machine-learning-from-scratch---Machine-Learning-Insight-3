{
 "cells": [
  {
   "cell_type": "code",
   "execution_count": 1,
   "metadata": {},
   "outputs": [],
   "source": [
    "import sys\n",
    "sys.path.append(\"../../\")"
   ]
  },
  {
   "cell_type": "code",
   "execution_count": 12,
   "metadata": {},
   "outputs": [],
   "source": [
    "import matplotlib.pyplot as plt\n",
    "from pylib.utils.functions_for_classification import imbalanced_2d_2cls, plot_scatter\n",
    "import numpy as np\n",
    "import pandas as pd"
   ]
  },
  {
   "cell_type": "code",
   "execution_count": 19,
   "metadata": {},
   "outputs": [],
   "source": [
    "X = pd.DataFrame(data=np.ones((20, 1)), index=range(20))\n",
    "y = pd.DataFrame(data=np.hstack(([0] * 15, [1] * 5)), index=range(20))"
   ]
  },
  {
   "cell_type": "markdown",
   "metadata": {},
   "source": [
    "## 随机分割采样\n",
    "\n"
   ]
  },
  {
   "cell_type": "code",
   "execution_count": 20,
   "metadata": {},
   "outputs": [
    {
     "name": "stdout",
     "output_type": "stream",
     "text": [
      "训练集的索引：[ 5 11  3 18 16 13  2  9 19  4 12  7 10 14  6]\n",
      "测试集的索引：[ 0 17 15  1  8]\n"
     ]
    }
   ],
   "source": [
    "from sklearn.model_selection import ShuffleSplit\n",
    "\n",
    "ss = ShuffleSplit(n_splits=1, test_size=0.25, random_state=42)\n",
    "for train_idx, test_idx in ss.split(X, y):\n",
    "    print(\"训练集的索引：{}\".format(train_idx))\n",
    "    print(\"测试集的索引：{}\".format(test_idx))"
   ]
  },
  {
   "cell_type": "code",
   "execution_count": 25,
   "metadata": {},
   "outputs": [
    {
     "name": "stdout",
     "output_type": "stream",
     "text": [
      "训练集的索引：[5, 11, 3, 18, 16, 13, 2, 9, 19, 4, 12, 7, 10, 14, 6]\n",
      "测试集的索引：[0, 17, 15, 1, 8]\n"
     ]
    }
   ],
   "source": [
    "from sklearn.model_selection import train_test_split\n",
    "\n",
    "X_train, X_test, y_train, y_test = train_test_split(X, y,\n",
    "                                                    test_size=0.25,\n",
    "                                                    random_state=42)\n",
    "print(\"训练集的索引：{}\".format(X_train.index.tolist()))\n",
    "print(\"测试集的索引：{}\".format(X_test.index.tolist()))"
   ]
  },
  {
   "cell_type": "markdown",
   "metadata": {},
   "source": [
    "## 分层分割采样"
   ]
  },
  {
   "cell_type": "code",
   "execution_count": 26,
   "metadata": {},
   "outputs": [
    {
     "name": "stdout",
     "output_type": "stream",
     "text": [
      "训练集的索引：[15 16  2  0 14  4 13  7 18  9  5 11  8 19  1]\n",
      "测试集的索引：[10 17  3  6 12]\n"
     ]
    }
   ],
   "source": [
    "from sklearn.model_selection import StratifiedShuffleSplit\n",
    "\n",
    "ss_split = StratifiedShuffleSplit(n_splits=1, test_size=0.25, random_state=42)\n",
    "for train_idx, test_idx in ss_split.split(X, y):\n",
    "    print(\"训练集的索引：{}\".format(train_idx))\n",
    "    print(\"测试集的索引：{}\".format(test_idx))"
   ]
  },
  {
   "cell_type": "code",
   "execution_count": 28,
   "metadata": {},
   "outputs": [
    {
     "name": "stdout",
     "output_type": "stream",
     "text": [
      "训练集的索引：[15, 16, 2, 0, 14, 4, 13, 7, 18, 9, 5, 11, 8, 19, 1]\n",
      "测试集的索引：[10, 17, 3, 6, 12]\n"
     ]
    }
   ],
   "source": [
    "X_train, X_test, y_train, y_test = train_test_split(X, y,\n",
    "                                                    stratify=y,\n",
    "                                                    test_size=0.25,\n",
    "                                                    random_state=42)\n",
    "print(\"训练集的索引：{}\".format(X_train.index.tolist()))\n",
    "print(\"测试集的索引：{}\".format(X_test.index.tolist()))"
   ]
  },
  {
   "cell_type": "code",
   "execution_count": null,
   "metadata": {},
   "outputs": [],
   "source": []
  }
 ],
 "metadata": {
  "kernelspec": {
   "display_name": "mlproduct",
   "language": "python",
   "name": "mlproduct"
  },
  "language_info": {
   "codemirror_mode": {
    "name": "ipython",
    "version": 3
   },
   "file_extension": ".py",
   "mimetype": "text/x-python",
   "name": "python",
   "nbconvert_exporter": "python",
   "pygments_lexer": "ipython3",
   "version": "3.6.9"
  }
 },
 "nbformat": 4,
 "nbformat_minor": 2
}
