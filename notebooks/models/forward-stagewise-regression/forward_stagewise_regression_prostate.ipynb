{
 "cells": [
  {
   "cell_type": "markdown",
   "metadata": {},
   "source": [
    "## 数据"
   ]
  },
  {
   "cell_type": "code",
   "execution_count": 1,
   "metadata": {},
   "outputs": [],
   "source": [
    "from sklearn.preprocessing import StandardScaler\n",
    "import matplotlib.pyplot as plt\n",
    "import pandas as pd"
   ]
  },
  {
   "cell_type": "code",
   "execution_count": 2,
   "metadata": {},
   "outputs": [
    {
     "data": {
      "text/html": [
       "<div>\n",
       "<style scoped>\n",
       "    .dataframe tbody tr th:only-of-type {\n",
       "        vertical-align: middle;\n",
       "    }\n",
       "\n",
       "    .dataframe tbody tr th {\n",
       "        vertical-align: top;\n",
       "    }\n",
       "\n",
       "    .dataframe thead th {\n",
       "        text-align: right;\n",
       "    }\n",
       "</style>\n",
       "<table border=\"1\" class=\"dataframe\">\n",
       "  <thead>\n",
       "    <tr style=\"text-align: right;\">\n",
       "      <th></th>\n",
       "      <th>lcavol</th>\n",
       "      <th>lweight</th>\n",
       "      <th>age</th>\n",
       "      <th>lbph</th>\n",
       "      <th>svi</th>\n",
       "      <th>lcp</th>\n",
       "      <th>gleason</th>\n",
       "      <th>pgg45</th>\n",
       "      <th>lpsa</th>\n",
       "      <th>train</th>\n",
       "    </tr>\n",
       "  </thead>\n",
       "  <tbody>\n",
       "    <tr>\n",
       "      <th>1</th>\n",
       "      <td>-0.579818</td>\n",
       "      <td>2.769459</td>\n",
       "      <td>50</td>\n",
       "      <td>-1.386294</td>\n",
       "      <td>0</td>\n",
       "      <td>-1.386294</td>\n",
       "      <td>6</td>\n",
       "      <td>0</td>\n",
       "      <td>-0.430783</td>\n",
       "      <td>T</td>\n",
       "    </tr>\n",
       "    <tr>\n",
       "      <th>2</th>\n",
       "      <td>-0.994252</td>\n",
       "      <td>3.319626</td>\n",
       "      <td>58</td>\n",
       "      <td>-1.386294</td>\n",
       "      <td>0</td>\n",
       "      <td>-1.386294</td>\n",
       "      <td>6</td>\n",
       "      <td>0</td>\n",
       "      <td>-0.162519</td>\n",
       "      <td>T</td>\n",
       "    </tr>\n",
       "    <tr>\n",
       "      <th>3</th>\n",
       "      <td>-0.510826</td>\n",
       "      <td>2.691243</td>\n",
       "      <td>74</td>\n",
       "      <td>-1.386294</td>\n",
       "      <td>0</td>\n",
       "      <td>-1.386294</td>\n",
       "      <td>7</td>\n",
       "      <td>20</td>\n",
       "      <td>-0.162519</td>\n",
       "      <td>T</td>\n",
       "    </tr>\n",
       "    <tr>\n",
       "      <th>4</th>\n",
       "      <td>-1.203973</td>\n",
       "      <td>3.282789</td>\n",
       "      <td>58</td>\n",
       "      <td>-1.386294</td>\n",
       "      <td>0</td>\n",
       "      <td>-1.386294</td>\n",
       "      <td>6</td>\n",
       "      <td>0</td>\n",
       "      <td>-0.162519</td>\n",
       "      <td>T</td>\n",
       "    </tr>\n",
       "    <tr>\n",
       "      <th>5</th>\n",
       "      <td>0.751416</td>\n",
       "      <td>3.432373</td>\n",
       "      <td>62</td>\n",
       "      <td>-1.386294</td>\n",
       "      <td>0</td>\n",
       "      <td>-1.386294</td>\n",
       "      <td>6</td>\n",
       "      <td>0</td>\n",
       "      <td>0.371564</td>\n",
       "      <td>T</td>\n",
       "    </tr>\n",
       "  </tbody>\n",
       "</table>\n",
       "</div>"
      ],
      "text/plain": [
       "     lcavol   lweight  age      lbph  svi       lcp  gleason  pgg45      lpsa  \\\n",
       "1 -0.579818  2.769459   50 -1.386294    0 -1.386294        6      0 -0.430783   \n",
       "2 -0.994252  3.319626   58 -1.386294    0 -1.386294        6      0 -0.162519   \n",
       "3 -0.510826  2.691243   74 -1.386294    0 -1.386294        7     20 -0.162519   \n",
       "4 -1.203973  3.282789   58 -1.386294    0 -1.386294        6      0 -0.162519   \n",
       "5  0.751416  3.432373   62 -1.386294    0 -1.386294        6      0  0.371564   \n",
       "\n",
       "  train  \n",
       "1     T  \n",
       "2     T  \n",
       "3     T  \n",
       "4     T  \n",
       "5     T  "
      ]
     },
     "execution_count": 2,
     "metadata": {},
     "output_type": "execute_result"
    }
   ],
   "source": [
    "prostate = pd.read_csv(\"../../../datasets/prostate/prostate.data\", \n",
    "                       sep=\"\\t\", index_col=0)\n",
    "prostate.head()"
   ]
  },
  {
   "cell_type": "code",
   "execution_count": 3,
   "metadata": {},
   "outputs": [],
   "source": [
    "train_data = prostate.drop(\"train\", axis=1)[prostate[\"train\"] == \"T\"]\n",
    "test_data = prostate.drop(\"train\", axis=1)[prostate[\"train\"] == \"F\"]\n",
    "\n",
    "scaler = StandardScaler().fit(train_data)\n",
    "train_data_std = scaler.fit_transform(train_data)\n",
    "test_data_std = scaler.transform(test_data)\n",
    "X_train = train_data_std[:, :-1]\n",
    "y_train = train_data_std[:, -1]\n",
    "X_test = test_data_std[:, :-1]\n",
    "y_test = test_data_std[:, -1]"
   ]
  },
  {
   "cell_type": "markdown",
   "metadata": {},
   "source": [
    "## 向前逐阶段回归"
   ]
  },
  {
   "cell_type": "code",
   "execution_count": 27,
   "metadata": {},
   "outputs": [],
   "source": [
    "from sklearn.linear_model import LinearRegression\n",
    "from sklearn.base import BaseEstimator, RegressorMixin\n",
    "from sklearn.metrics import mean_squared_error\n",
    "import matplotlib.pyplot as plt\n",
    "import numpy as np"
   ]
  },
  {
   "cell_type": "code",
   "execution_count": 63,
   "metadata": {},
   "outputs": [],
   "source": [
    "class FrowardStageRegression(BaseEstimator, RegressorMixin):\n",
    "    \"\"\"向前逐段回归\n",
    "    \n",
    "    参数：\n",
    "    -----\n",
    "    n_stages: 阶段的数量，默认是500\n",
    "    alpha：正则化参数，控制每前进一步的步长，相当于学习率\n",
    "    \n",
    "    属性：\n",
    "    -----\n",
    "    Beta：系数\n",
    "    feature_order: 记录特征依次添加的顺序\n",
    "    loss_history: 记录添加每个特征后的均方根误差\n",
    "    \"\"\"\n",
    "    def __init__(self, n_stages=200, alpha=0.1, normalized=False):\n",
    "        self.n_stages = n_stages\n",
    "        self.alpha = alpha\n",
    "        self.normalized = normalized\n",
    "        \n",
    "    def fit(self, X, y):\n",
    "        if self.normalized:\n",
    "            X = (X - X.mean(axis=0)) / np.std(X)\n",
    "        n, p = X.shape\n",
    "        self.beta_path = np.zeros([self.n_stages, p])\n",
    "        corrs = np.zeros(p)\n",
    "        r = y.copy()\n",
    "        max_idx_set = []\n",
    "        self.loss_history = []  # 记录历史的残差\n",
    "        for i in range(self.n_stages):\n",
    "            # 遍历各个变量并选出与当前残差相关性最大的变量\n",
    "            for j in range(p):\n",
    "                corrs[j] = np.corrcoef(X[:,j], r)[0][1]\n",
    "            max_idx = np.argmax(corrs)\n",
    "            max_idx_set.append(max_idx)\n",
    "            delta = self.alpha * np.sign(corrs[max_idx])\n",
    "            if delta < 0:  # 如果出现负相关就停止\n",
    "                break\n",
    "            self.beta_path[i, :] = self.beta_path[i - 1, :].copy()\n",
    "            self.beta_path[i, max_idx] += delta  # 更新系数\n",
    "            r = r - delta * X[:, max_idx] # 更新残差\n",
    "            loss = np.sqrt(np.sum(r**2))\n",
    "            self.loss_history.append(loss)\n",
    "            \n",
    "        beta_idx = np.array([np.argmax(self.beta_path[:, i]) for i in range(p)])\n",
    "        stage_best = beta_idx[np.argmin(beta_idx[beta_idx != 0])]\n",
    "        beta_best = self.beta_path[int(stage_best)]\n",
    "        intercept_corr = np.ones(n).T @ (y - y.mean()) # 加入截距的相关性\n",
    "        self.Beta = np.r_[intercept_corr, beta_best]\n",
    "        self.feature_order = np.unique(max_idx_set)\n",
    "        \n",
    "        return self\n",
    "    \n",
    "    def predict(self, X):\n",
    "        if self.normalized:\n",
    "            X = (X - X.mean(axis=0)) / np.std(X)\n",
    "        X = np.c_[np.ones(len(X)), X]\n",
    "        y_pred = X @ self.Beta\n",
    "        \n",
    "        return y_pred"
   ]
  },
  {
   "cell_type": "code",
   "execution_count": 64,
   "metadata": {},
   "outputs": [
    {
     "data": {
      "text/plain": [
       "FrowardStageRegression()"
      ]
     },
     "execution_count": 64,
     "metadata": {},
     "output_type": "execute_result"
    }
   ],
   "source": [
    "fsr = FrowardStageRegression()\n",
    "fsr.fit(X_train, y_train)"
   ]
  },
  {
   "cell_type": "code",
   "execution_count": 65,
   "metadata": {},
   "outputs": [
    {
     "name": "stdout",
     "output_type": "stream",
     "text": [
      "训练样本误差: 0.460\n"
     ]
    }
   ],
   "source": [
    "y_train_preds = fsr.predict(X_train)\n",
    "train_err = mean_squared_error(y_train, y_train_preds)\n",
    "print(\"训练样本误差: {:.3f}\".format(train_err)) # 均方差"
   ]
  },
  {
   "cell_type": "code",
   "execution_count": 66,
   "metadata": {
    "scrolled": true
   },
   "outputs": [
    {
     "name": "stdout",
     "output_type": "stream",
     "text": [
      "测试样本误差: 0.370\n"
     ]
    }
   ],
   "source": [
    "y_test_preds = fsr.predict(X_test)\n",
    "test_err = mean_squared_error(y_test, y_test_preds)\n",
    "print(\"测试样本误差: {:.3f}\".format(test_err))"
   ]
  },
  {
   "cell_type": "code",
   "execution_count": 67,
   "metadata": {},
   "outputs": [
    {
     "data": {
      "text/plain": [
       "array([0. , 0.5, 0.1, 0. , 0. , 0. , 0. , 0. , 0. ])"
      ]
     },
     "execution_count": 67,
     "metadata": {},
     "output_type": "execute_result"
    }
   ],
   "source": [
    "fsr.Beta"
   ]
  },
  {
   "cell_type": "code",
   "execution_count": 68,
   "metadata": {},
   "outputs": [
    {
     "name": "stdout",
     "output_type": "stream",
     "text": [
      "特征依次添加的顺序:[0 1 3 4 7]\n"
     ]
    }
   ],
   "source": [
    "print(\"特征依次添加的顺序:{}\".format(fsr.feature_order))"
   ]
  },
  {
   "cell_type": "code",
   "execution_count": 82,
   "metadata": {},
   "outputs": [
    {
     "data": {
      "image/png": "[encoded data removed]",
      "text/plain": [
       "<Figure size 432x288 with 1 Axes>"
      ]
     },
     "metadata": {
      "needs_background": "light"
     },
     "output_type": "display_data"
    }
   ],
   "source": [
    "loss_history = fsr.loss_history\n",
    "plt.plot(range(len(loss_history)), loss_history)\n",
    "plt.show()"
   ]
  },
  {
   "cell_type": "markdown",
   "metadata": {},
   "source": [
    "### 寻找最优参数"
   ]
  },
  {
   "cell_type": "code",
   "execution_count": 70,
   "metadata": {},
   "outputs": [],
   "source": [
    "from sklearn.model_selection import GridSearchCV\n",
    "import humanfriendly as hf\n",
    "import time"
   ]
  },
  {
   "cell_type": "code",
   "execution_count": 71,
   "metadata": {},
   "outputs": [
    {
     "name": "stdout",
     "output_type": "stream",
     "text": [
      "所用时间：3 minutes and 8.51 seconds\n"
     ]
    }
   ],
   "source": [
    "start = time.perf_counter()\n",
    "n_stages_lst = np.arange(100, 2000, 100)\n",
    "alpha_lst = [0.001, 0.01, 0.1, 0.3, 0.5]\n",
    "param_grid = {'n_stages': n_stages_lst,\n",
    "              'alpha': alpha_lst}\n",
    "fsr_cv = GridSearchCV(FrowardStageRegression(), \n",
    "                      param_grid=param_grid, \n",
    "                      cv=10, \n",
    "                      scoring='neg_mean_squared_error', \n",
    "                      n_jobs=-1,\n",
    "                      return_train_score=True)\n",
    "fsr_cv.fit(X_train, y_train)\n",
    "end = time.perf_counter()\n",
    "elapsed_ls = end - start\n",
    "time_cost = hf.format_timespan(elapsed_ls)\n",
    "print(\"所用时间：{}\".format(time_cost))"
   ]
  },
  {
   "cell_type": "code",
   "execution_count": 73,
   "metadata": {},
   "outputs": [
    {
     "data": {
      "text/plain": [
       "{'alpha': 0.001, 'n_stages': 900}"
      ]
     },
     "execution_count": 73,
     "metadata": {},
     "output_type": "execute_result"
    }
   ],
   "source": [
    "best_param = fsr_cv.best_params_\n",
    "best_param"
   ]
  },
  {
   "cell_type": "code",
   "execution_count": 74,
   "metadata": {},
   "outputs": [
    {
     "data": {
      "image/png": "[encoded data removed]",
      "text/plain": [
       "<Figure size 720x576 with 1 Axes>"
      ]
     },
     "metadata": {
      "needs_background": "light"
     },
     "output_type": "display_data"
    }
   ],
   "source": [
    "cv_scores = fsr_cv.cv_results_[\"mean_test_score\"]\n",
    "xx1, xx2 = np.meshgrid(n_stages_lst, alpha_lst)\n",
    "cv_scores = cv_scores.reshape(xx1.shape)\n",
    "\n",
    "plt.figure(figsize=(10, 8))\n",
    "plt.contourf(xx1, xx2, cv_scores)\n",
    "plt.scatter(best_param[\"n_stages\"], best_param[\"alpha\"],\n",
    "            marker=\"*\", color=\"red\", s=100)\n",
    "plt.plot()\n",
    "plt.show()"
   ]
  },
  {
   "cell_type": "markdown",
   "metadata": {},
   "source": [
    "### 使用最优模型"
   ]
  },
  {
   "cell_type": "code",
   "execution_count": 76,
   "metadata": {},
   "outputs": [],
   "source": [
    "fsr_best = fsr_cv.best_estimator_"
   ]
  },
  {
   "cell_type": "code",
   "execution_count": 77,
   "metadata": {},
   "outputs": [
    {
     "name": "stdout",
     "output_type": "stream",
     "text": [
      "训练样本误差: 0.364\n"
     ]
    }
   ],
   "source": [
    "y_train_preds = fsr_best.predict(X_train)\n",
    "train_err = mean_squared_error(y_train, y_train_preds)\n",
    "print(\"训练样本误差: {:.3f}\".format(train_err)) # 均方差"
   ]
  },
  {
   "cell_type": "code",
   "execution_count": 78,
   "metadata": {},
   "outputs": [
    {
     "name": "stdout",
     "output_type": "stream",
     "text": [
      "测试样本误差: 0.315\n"
     ]
    }
   ],
   "source": [
    "y_test_preds = fsr_best.predict(X_test)\n",
    "test_err = mean_squared_error(y_test, y_test_preds)\n",
    "print(\"测试样本误差: {:.3f}\".format(test_err))"
   ]
  },
  {
   "cell_type": "code",
   "execution_count": 79,
   "metadata": {},
   "outputs": [
    {
     "data": {
      "image/png": "[encoded data removed]",
      "text/plain": [
       "<Figure size 432x288 with 1 Axes>"
      ]
     },
     "metadata": {
      "needs_background": "light"
     },
     "output_type": "display_data"
    }
   ],
   "source": [
    "loss_history = fsr_best.loss_history\n",
    "plt.plot(range(len(loss_history)), loss_history)\n",
    "plt.show()"
   ]
  },
  {
   "cell_type": "markdown",
   "metadata": {},
   "source": [
    "### 系数路径"
   ]
  },
  {
   "cell_type": "code",
   "execution_count": 85,
   "metadata": {},
   "outputs": [
    {
     "data": {
      "image/png": "[encoded data removed]",
      "text/plain": [
       "<Figure size 720x576 with 1 Axes>"
      ]
     },
     "metadata": {
      "needs_background": "light"
     },
     "output_type": "display_data"
    }
   ],
   "source": [
    "p = X_train.shape[1]\n",
    "best_n_stages = best_param[\"n_stages\"]\n",
    "plt.figure(figsize=(10, 8))\n",
    "for i in range(p):\n",
    "    plt.plot(range(best_n_stages), fsr_best.beta_path[:, i], \n",
    "             label=list(train_data.columns)[i])\n",
    "plt.vlines(best_n_stages, plt.ylim()[0], plt.ylim()[1], color='gray', linestyles='--')\n",
    "plt.legend()\n",
    "plt.show()"
   ]
  },
  {
   "cell_type": "code",
   "execution_count": 76,
   "metadata": {},
   "outputs": [
    {
     "data": {
      "text/html": [
       "<div>\n",
       "<style scoped>\n",
       "    .dataframe tbody tr th:only-of-type {\n",
       "        vertical-align: middle;\n",
       "    }\n",
       "\n",
       "    .dataframe tbody tr th {\n",
       "        vertical-align: top;\n",
       "    }\n",
       "\n",
       "    .dataframe thead th {\n",
       "        text-align: right;\n",
       "    }\n",
       "</style>\n",
       "<table border=\"1\" class=\"dataframe\">\n",
       "  <thead>\n",
       "    <tr style=\"text-align: right;\">\n",
       "      <th></th>\n",
       "      <th>Term</th>\n",
       "      <th>Coefficient</th>\n",
       "    </tr>\n",
       "  </thead>\n",
       "  <tbody>\n",
       "    <tr>\n",
       "      <th>0</th>\n",
       "      <td>Intercept</td>\n",
       "      <td>0.000</td>\n",
       "    </tr>\n",
       "    <tr>\n",
       "      <th>1</th>\n",
       "      <td>lcavol</td>\n",
       "      <td>0.474</td>\n",
       "    </tr>\n",
       "    <tr>\n",
       "      <th>2</th>\n",
       "      <td>lweight</td>\n",
       "      <td>0.182</td>\n",
       "    </tr>\n",
       "    <tr>\n",
       "      <th>3</th>\n",
       "      <td>age</td>\n",
       "      <td>0.000</td>\n",
       "    </tr>\n",
       "    <tr>\n",
       "      <th>4</th>\n",
       "      <td>lbph</td>\n",
       "      <td>0.065</td>\n",
       "    </tr>\n",
       "    <tr>\n",
       "      <th>5</th>\n",
       "      <td>svi</td>\n",
       "      <td>0.126</td>\n",
       "    </tr>\n",
       "    <tr>\n",
       "      <th>6</th>\n",
       "      <td>lcp</td>\n",
       "      <td>0.000</td>\n",
       "    </tr>\n",
       "    <tr>\n",
       "      <th>7</th>\n",
       "      <td>gleason</td>\n",
       "      <td>0.000</td>\n",
       "    </tr>\n",
       "    <tr>\n",
       "      <th>8</th>\n",
       "      <td>pgg45</td>\n",
       "      <td>0.040</td>\n",
       "    </tr>\n",
       "  </tbody>\n",
       "</table>\n",
       "</div>"
      ],
      "text/plain": [
       "        Term  Coefficient\n",
       "0  Intercept        0.000\n",
       "1     lcavol        0.474\n",
       "2    lweight        0.182\n",
       "3        age        0.000\n",
       "4       lbph        0.065\n",
       "5        svi        0.126\n",
       "6        lcp        0.000\n",
       "7    gleason        0.000\n",
       "8      pgg45        0.040"
      ]
     },
     "execution_count": 76,
     "metadata": {},
     "output_type": "execute_result"
    }
   ],
   "source": [
    "pd.options.display.float_format = '{:.3f}'.format\n",
    "intercept = train_data['lpsa'].values.mean()\n",
    "variables = [\"Intercept\"] + list(train_data.iloc[:, :-1].columns)\n",
    "pd.DataFrame({\"Term\": variables, \n",
    "              \"Coefficient\": fsr_best.Beta})"
   ]
  },
  {
   "cell_type": "code",
   "execution_count": null,
   "metadata": {},
   "outputs": [],
   "source": []
  }
 ],
 "metadata": {
  "kernelspec": {
   "display_name": "mlproduct",
   "language": "python",
   "name": "mlproduct"
  },
  "language_info": {
   "codemirror_mode": {
    "name": "ipython",
    "version": 3
   },
   "file_extension": ".py",
   "mimetype": "text/x-python",
   "name": "python",
   "nbconvert_exporter": "python",
   "pygments_lexer": "ipython3",
   "version": "3.6.9"
  }
 },
 "nbformat": 4,
 "nbformat_minor": 2
}
