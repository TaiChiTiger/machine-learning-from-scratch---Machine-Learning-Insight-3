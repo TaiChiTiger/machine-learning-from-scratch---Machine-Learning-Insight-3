{
 "cells": [
  {
   "cell_type": "markdown",
   "metadata": {},
   "source": [
    "## 数据"
   ]
  },
  {
   "cell_type": "code",
   "execution_count": 1,
   "metadata": {},
   "outputs": [],
   "source": [
    "from sklearn.preprocessing import StandardScaler\n",
    "import matplotlib.pyplot as plt\n",
    "import pandas as pd"
   ]
  },
  {
   "cell_type": "code",
   "execution_count": 2,
   "metadata": {},
   "outputs": [
    {
     "data": {
      "text/html": [
       "<div>\n",
       "<style scoped>\n",
       "    .dataframe tbody tr th:only-of-type {\n",
       "        vertical-align: middle;\n",
       "    }\n",
       "\n",
       "    .dataframe tbody tr th {\n",
       "        vertical-align: top;\n",
       "    }\n",
       "\n",
       "    .dataframe thead th {\n",
       "        text-align: right;\n",
       "    }\n",
       "</style>\n",
       "<table border=\"1\" class=\"dataframe\">\n",
       "  <thead>\n",
       "    <tr style=\"text-align: right;\">\n",
       "      <th></th>\n",
       "      <th>lcavol</th>\n",
       "      <th>lweight</th>\n",
       "      <th>age</th>\n",
       "      <th>lbph</th>\n",
       "      <th>svi</th>\n",
       "      <th>lcp</th>\n",
       "      <th>gleason</th>\n",
       "      <th>pgg45</th>\n",
       "      <th>lpsa</th>\n",
       "      <th>train</th>\n",
       "    </tr>\n",
       "  </thead>\n",
       "  <tbody>\n",
       "    <tr>\n",
       "      <th>1</th>\n",
       "      <td>-0.579818</td>\n",
       "      <td>2.769459</td>\n",
       "      <td>50</td>\n",
       "      <td>-1.386294</td>\n",
       "      <td>0</td>\n",
       "      <td>-1.386294</td>\n",
       "      <td>6</td>\n",
       "      <td>0</td>\n",
       "      <td>-0.430783</td>\n",
       "      <td>T</td>\n",
       "    </tr>\n",
       "    <tr>\n",
       "      <th>2</th>\n",
       "      <td>-0.994252</td>\n",
       "      <td>3.319626</td>\n",
       "      <td>58</td>\n",
       "      <td>-1.386294</td>\n",
       "      <td>0</td>\n",
       "      <td>-1.386294</td>\n",
       "      <td>6</td>\n",
       "      <td>0</td>\n",
       "      <td>-0.162519</td>\n",
       "      <td>T</td>\n",
       "    </tr>\n",
       "    <tr>\n",
       "      <th>3</th>\n",
       "      <td>-0.510826</td>\n",
       "      <td>2.691243</td>\n",
       "      <td>74</td>\n",
       "      <td>-1.386294</td>\n",
       "      <td>0</td>\n",
       "      <td>-1.386294</td>\n",
       "      <td>7</td>\n",
       "      <td>20</td>\n",
       "      <td>-0.162519</td>\n",
       "      <td>T</td>\n",
       "    </tr>\n",
       "    <tr>\n",
       "      <th>4</th>\n",
       "      <td>-1.203973</td>\n",
       "      <td>3.282789</td>\n",
       "      <td>58</td>\n",
       "      <td>-1.386294</td>\n",
       "      <td>0</td>\n",
       "      <td>-1.386294</td>\n",
       "      <td>6</td>\n",
       "      <td>0</td>\n",
       "      <td>-0.162519</td>\n",
       "      <td>T</td>\n",
       "    </tr>\n",
       "    <tr>\n",
       "      <th>5</th>\n",
       "      <td>0.751416</td>\n",
       "      <td>3.432373</td>\n",
       "      <td>62</td>\n",
       "      <td>-1.386294</td>\n",
       "      <td>0</td>\n",
       "      <td>-1.386294</td>\n",
       "      <td>6</td>\n",
       "      <td>0</td>\n",
       "      <td>0.371564</td>\n",
       "      <td>T</td>\n",
       "    </tr>\n",
       "  </tbody>\n",
       "</table>\n",
       "</div>"
      ],
      "text/plain": [
       "     lcavol   lweight  age      lbph  svi       lcp  gleason  pgg45      lpsa  \\\n",
       "1 -0.579818  2.769459   50 -1.386294    0 -1.386294        6      0 -0.430783   \n",
       "2 -0.994252  3.319626   58 -1.386294    0 -1.386294        6      0 -0.162519   \n",
       "3 -0.510826  2.691243   74 -1.386294    0 -1.386294        7     20 -0.162519   \n",
       "4 -1.203973  3.282789   58 -1.386294    0 -1.386294        6      0 -0.162519   \n",
       "5  0.751416  3.432373   62 -1.386294    0 -1.386294        6      0  0.371564   \n",
       "\n",
       "  train  \n",
       "1     T  \n",
       "2     T  \n",
       "3     T  \n",
       "4     T  \n",
       "5     T  "
      ]
     },
     "execution_count": 2,
     "metadata": {},
     "output_type": "execute_result"
    }
   ],
   "source": [
    "prostate = pd.read_csv(\"../../../datasets/prostate/prostate.data\", \n",
    "                       sep=\"\\t\", index_col=0)\n",
    "prostate.head()"
   ]
  },
  {
   "cell_type": "code",
   "execution_count": 3,
   "metadata": {},
   "outputs": [],
   "source": [
    "train_data = prostate.drop(\"train\", axis=1)[prostate[\"train\"] == \"T\"]\n",
    "test_data = prostate.drop(\"train\", axis=1)[prostate[\"train\"] == \"F\"]\n",
    "\n",
    "scaler = StandardScaler().fit(train_data)\n",
    "train_data_std = scaler.fit_transform(train_data)\n",
    "test_data_std = scaler.transform(test_data)\n",
    "X_train = train_data_std[:, :-1]\n",
    "y_train = train_data_std[:, -1]\n",
    "X_test = test_data_std[:, :-1]\n",
    "y_test = test_data_std[:, -1]"
   ]
  },
  {
   "cell_type": "markdown",
   "metadata": {},
   "source": [
    "## 向后消除"
   ]
  },
  {
   "cell_type": "code",
   "execution_count": 4,
   "metadata": {},
   "outputs": [],
   "source": [
    "from mlxtend.feature_selection import SequentialFeatureSelector as SFS\n",
    "from sklearn.linear_model import LinearRegression\n",
    "from sklearn.metrics import mean_squared_error"
   ]
  },
  {
   "cell_type": "code",
   "execution_count": 9,
   "metadata": {},
   "outputs": [
    {
     "data": {
      "text/plain": [
       "SequentialFeatureSelector(cv=0, estimator=LinearRegression(), forward=False,\n",
       "                          scoring='neg_mean_squared_error')"
      ]
     },
     "execution_count": 9,
     "metadata": {},
     "output_type": "execute_result"
    }
   ],
   "source": [
    "p = X_train.shape[1]\n",
    "feature_names = list(train_data.columns)[:-1]\n",
    "lr = LinearRegression()\n",
    "sfs = SFS(lr,\n",
    "          k_features=1,\n",
    "          forward=False, \n",
    "          floating=False,\n",
    "          scoring='neg_mean_squared_error',\n",
    "          cv=0)\n",
    "sfs.fit(X_train, y_train, custom_feature_names=feature_names)"
   ]
  },
  {
   "cell_type": "code",
   "execution_count": 10,
   "metadata": {},
   "outputs": [
    {
     "name": "stdout",
     "output_type": "stream",
     "text": [
      "训练样本误差: 0.462\n"
     ]
    }
   ],
   "source": [
    "print(\"训练样本误差: {:.3f}\".format(-sfs.k_score_ )) # 均方差"
   ]
  },
  {
   "cell_type": "code",
   "execution_count": 16,
   "metadata": {},
   "outputs": [
    {
     "name": "stdout",
     "output_type": "stream",
     "text": [
      "测试样本误差: 0.334\n"
     ]
    }
   ],
   "source": [
    "best_feature_idx = sfs.k_feature_idx_\n",
    "X_trans = sfs.transform(X_test)\n",
    "lr.fit(X_train[:, best_feature_idx], y_train)\n",
    "y_pred = lr.predict(X_trans)\n",
    "test_err = mean_squared_error(y_test, y_pred)\n",
    "print(\"测试样本误差: {:.3f}\".format(test_err))"
   ]
  },
  {
   "cell_type": "markdown",
   "metadata": {},
   "source": [
    "### 向后消除的过程"
   ]
  },
  {
   "cell_type": "code",
   "execution_count": 23,
   "metadata": {},
   "outputs": [
    {
     "name": "stderr",
     "output_type": "stream",
     "text": [
      "E:\\a-soft\\Anaconda3\\envs\\mlproduct\\lib\\site-packages\\numpy\\core\\_methods.py:217: RuntimeWarning: Degrees of freedom <= 0 for slice\n",
      "  keepdims=keepdims)\n",
      "E:\\a-soft\\Anaconda3\\envs\\mlproduct\\lib\\site-packages\\numpy\\core\\_methods.py:209: RuntimeWarning: invalid value encountered in double_scalars\n",
      "  ret = ret.dtype.type(ret / rcount)\n"
     ]
    },
    {
     "data": {
      "text/html": [
       "<div>\n",
       "<style scoped>\n",
       "    .dataframe tbody tr th:only-of-type {\n",
       "        vertical-align: middle;\n",
       "    }\n",
       "\n",
       "    .dataframe tbody tr th {\n",
       "        vertical-align: top;\n",
       "    }\n",
       "\n",
       "    .dataframe thead th {\n",
       "        text-align: right;\n",
       "    }\n",
       "</style>\n",
       "<table border=\"1\" class=\"dataframe\">\n",
       "  <thead>\n",
       "    <tr style=\"text-align: right;\">\n",
       "      <th></th>\n",
       "      <th>feature_idx</th>\n",
       "      <th>cv_scores</th>\n",
       "      <th>avg_score</th>\n",
       "      <th>feature_names</th>\n",
       "      <th>ci_bound</th>\n",
       "      <th>std_dev</th>\n",
       "      <th>std_err</th>\n",
       "    </tr>\n",
       "  </thead>\n",
       "  <tbody>\n",
       "    <tr>\n",
       "      <th>8</th>\n",
       "      <td>(0, 1, 2, 3, 4, 5, 6, 7)</td>\n",
       "      <td>[-0.3056288203231761]</td>\n",
       "      <td>-0.306</td>\n",
       "      <td>(lcavol, lweight, age, lbph, svi, lcp, gleason...</td>\n",
       "      <td>NaN</td>\n",
       "      <td>0.000</td>\n",
       "      <td>NaN</td>\n",
       "    </tr>\n",
       "    <tr>\n",
       "      <th>7</th>\n",
       "      <td>(0, 1, 2, 3, 4, 5, 7)</td>\n",
       "      <td>[-0.30574219479015285]</td>\n",
       "      <td>-0.306</td>\n",
       "      <td>(lcavol, lweight, age, lbph, svi, lcp, pgg45)</td>\n",
       "      <td>NaN</td>\n",
       "      <td>0.000</td>\n",
       "      <td>NaN</td>\n",
       "    </tr>\n",
       "    <tr>\n",
       "      <th>6</th>\n",
       "      <td>(0, 1, 3, 4, 5, 7)</td>\n",
       "      <td>[-0.317192768797662]</td>\n",
       "      <td>-0.317</td>\n",
       "      <td>(lcavol, lweight, lbph, svi, lcp, pgg45)</td>\n",
       "      <td>NaN</td>\n",
       "      <td>0.000</td>\n",
       "      <td>NaN</td>\n",
       "    </tr>\n",
       "    <tr>\n",
       "      <th>5</th>\n",
       "      <td>(0, 1, 3, 4, 7)</td>\n",
       "      <td>[-0.3330802453815049]</td>\n",
       "      <td>-0.333</td>\n",
       "      <td>(lcavol, lweight, lbph, svi, pgg45)</td>\n",
       "      <td>NaN</td>\n",
       "      <td>0.000</td>\n",
       "      <td>NaN</td>\n",
       "    </tr>\n",
       "    <tr>\n",
       "      <th>4</th>\n",
       "      <td>(0, 1, 3, 4)</td>\n",
       "      <td>[-0.340823662779771]</td>\n",
       "      <td>-0.341</td>\n",
       "      <td>(lcavol, lweight, lbph, svi)</td>\n",
       "      <td>NaN</td>\n",
       "      <td>0.000</td>\n",
       "      <td>NaN</td>\n",
       "    </tr>\n",
       "    <tr>\n",
       "      <th>3</th>\n",
       "      <td>(0, 1, 4)</td>\n",
       "      <td>[-0.3625594614828106]</td>\n",
       "      <td>-0.363</td>\n",
       "      <td>(lcavol, lweight, svi)</td>\n",
       "      <td>NaN</td>\n",
       "      <td>0.000</td>\n",
       "      <td>NaN</td>\n",
       "    </tr>\n",
       "    <tr>\n",
       "      <th>2</th>\n",
       "      <td>(0, 1)</td>\n",
       "      <td>[-0.3852439649775568]</td>\n",
       "      <td>-0.385</td>\n",
       "      <td>(lcavol, lweight)</td>\n",
       "      <td>NaN</td>\n",
       "      <td>0.000</td>\n",
       "      <td>NaN</td>\n",
       "    </tr>\n",
       "    <tr>\n",
       "      <th>1</th>\n",
       "      <td>(0,)</td>\n",
       "      <td>[-0.46248353094471173]</td>\n",
       "      <td>-0.462</td>\n",
       "      <td>(lcavol,)</td>\n",
       "      <td>NaN</td>\n",
       "      <td>0.000</td>\n",
       "      <td>NaN</td>\n",
       "    </tr>\n",
       "  </tbody>\n",
       "</table>\n",
       "</div>"
      ],
      "text/plain": [
       "                feature_idx               cv_scores avg_score  \\\n",
       "8  (0, 1, 2, 3, 4, 5, 6, 7)   [-0.3056288203231761]    -0.306   \n",
       "7     (0, 1, 2, 3, 4, 5, 7)  [-0.30574219479015285]    -0.306   \n",
       "6        (0, 1, 3, 4, 5, 7)    [-0.317192768797662]    -0.317   \n",
       "5           (0, 1, 3, 4, 7)   [-0.3330802453815049]    -0.333   \n",
       "4              (0, 1, 3, 4)    [-0.340823662779771]    -0.341   \n",
       "3                 (0, 1, 4)   [-0.3625594614828106]    -0.363   \n",
       "2                    (0, 1)   [-0.3852439649775568]    -0.385   \n",
       "1                      (0,)  [-0.46248353094471173]    -0.462   \n",
       "\n",
       "                                       feature_names ci_bound std_dev std_err  \n",
       "8  (lcavol, lweight, age, lbph, svi, lcp, gleason...      NaN   0.000     NaN  \n",
       "7      (lcavol, lweight, age, lbph, svi, lcp, pgg45)      NaN   0.000     NaN  \n",
       "6           (lcavol, lweight, lbph, svi, lcp, pgg45)      NaN   0.000     NaN  \n",
       "5                (lcavol, lweight, lbph, svi, pgg45)      NaN   0.000     NaN  \n",
       "4                       (lcavol, lweight, lbph, svi)      NaN   0.000     NaN  \n",
       "3                             (lcavol, lweight, svi)      NaN   0.000     NaN  \n",
       "2                                  (lcavol, lweight)      NaN   0.000     NaN  \n",
       "1                                          (lcavol,)      NaN   0.000     NaN  "
      ]
     },
     "execution_count": 23,
     "metadata": {},
     "output_type": "execute_result"
    }
   ],
   "source": [
    "results = pd.DataFrame.from_dict(sfs.get_metric_dict()).T\n",
    "results"
   ]
  },
  {
   "cell_type": "code",
   "execution_count": 24,
   "metadata": {},
   "outputs": [
    {
     "data": {
      "image/png": "[encoded data removed]",
      "text/plain": [
       "<Figure size 432x288 with 1 Axes>"
      ]
     },
     "metadata": {
      "needs_background": "light"
     },
     "output_type": "display_data"
    }
   ],
   "source": [
    "n_features = results[\"feature_idx\"].apply(lambda x: len(x))\n",
    "plt.plot(n_features, results[\"avg_score\"], \".-\")\n",
    "plt.xlabel(\"Number of Features\")\n",
    "plt.ylabel(\"Score\")\n",
    "plt.show()"
   ]
  },
  {
   "cell_type": "code",
   "execution_count": null,
   "metadata": {},
   "outputs": [],
   "source": []
  }
 ],
 "metadata": {
  "kernelspec": {
   "display_name": "mlproduct",
   "language": "python",
   "name": "mlproduct"
  },
  "language_info": {
   "codemirror_mode": {
    "name": "ipython",
    "version": 3
   },
   "file_extension": ".py",
   "mimetype": "text/x-python",
   "name": "python",
   "nbconvert_exporter": "python",
   "pygments_lexer": "ipython3",
   "version": "3.6.9"
  }
 },
 "nbformat": 4,
 "nbformat_minor": 2
}
