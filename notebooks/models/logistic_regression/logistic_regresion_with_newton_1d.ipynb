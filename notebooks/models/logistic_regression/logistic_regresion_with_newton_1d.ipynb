{
 "cells": [
  {
   "cell_type": "code",
   "execution_count": 4,
   "metadata": {},
   "outputs": [],
   "source": [
    "import sys\n",
    "sys.path.append(\"../../../\")"
   ]
  },
  {
   "cell_type": "markdown",
   "metadata": {},
   "source": [
    " ## 数据"
   ]
  },
  {
   "cell_type": "code",
   "execution_count": 5,
   "metadata": {},
   "outputs": [],
   "source": [
    "import matplotlib.pyplot as plt\n",
    "import numpy as np\n",
    "from pylib.utils.functions_for_classification import lin_separable_1d_2cls\n",
    "from matplotlib.colors import ListedColormap"
   ]
  },
  {
   "cell_type": "code",
   "execution_count": 6,
   "metadata": {},
   "outputs": [
    {
     "data": {
      "image/png": "[encoded data removed]",
      "text/plain": [
       "<Figure size 576x432 with 1 Axes>"
      ]
     },
     "metadata": {
      "needs_background": "light"
     },
     "output_type": "display_data"
    }
   ],
   "source": [
    "x, y = lin_separable_1d_2cls(20)\n",
    "\n",
    "plt.figure(figsize=(8, 6))\n",
    "colors = ['C0', 'C1']\n",
    "plt.scatter(x, y, c=y, cmap=ListedColormap(colors))\n",
    "plt.show()"
   ]
  },
  {
   "cell_type": "markdown",
   "metadata": {},
   "source": [
    "## 逻辑斯蒂回归"
   ]
  },
  {
   "cell_type": "code",
   "execution_count": 7,
   "metadata": {},
   "outputs": [],
   "source": [
    "import ipyvolume.pylab as plt3d\n",
    "import numpy as np"
   ]
  },
  {
   "cell_type": "markdown",
   "metadata": {},
   "source": [
    "### S型函数"
   ]
  },
  {
   "cell_type": "code",
   "execution_count": 8,
   "metadata": {},
   "outputs": [],
   "source": [
    "def sigmoid_function(X, W):\n",
    "    return 1 / (1 + np.exp(-X @ W))"
   ]
  },
  {
   "cell_type": "markdown",
   "metadata": {},
   "source": [
    "### 二进制交叉熵成本函数"
   ]
  },
  {
   "cell_type": "code",
   "execution_count": 9,
   "metadata": {},
   "outputs": [],
   "source": [
    "def binary_cross_entropy(X, W, y):\n",
    "    y_pred0 = sigmoid_function(X[y.ravel() == 0], W)\n",
    "    y_pred1 = sigmoid_function(X[y.ravel() == 1], W)\n",
    "    epsilon = 1e-8\n",
    "    loss = 1/len(y) * (-np.sum(np.log(1 - y_pred0 + epsilon)) - \\\n",
    "                       np.sum(np.log(y_pred1 + epsilon)))\n",
    "    return loss"
   ]
  },
  {
   "cell_type": "markdown",
   "metadata": {},
   "source": [
    "### 梯度函数"
   ]
  },
  {
   "cell_type": "code",
   "execution_count": 10,
   "metadata": {},
   "outputs": [],
   "source": [
    "def gradient_function(X, W, y):\n",
    "    p = sigmoid_function(X, W)\n",
    "    return X.T @ (y - p)"
   ]
  },
  {
   "cell_type": "markdown",
   "metadata": {},
   "source": [
    "### Hessian函数"
   ]
  },
  {
   "cell_type": "code",
   "execution_count": 11,
   "metadata": {},
   "outputs": [],
   "source": [
    "def hessian_function(X, D, y):\n",
    "    return -X.T @ D @ X"
   ]
  },
  {
   "cell_type": "markdown",
   "metadata": {},
   "source": [
    "### 牛顿方法"
   ]
  },
  {
   "cell_type": "code",
   "execution_count": 12,
   "metadata": {},
   "outputs": [],
   "source": [
    "def newtons_method(X, y, epochs=100):\n",
    "    y = y.reshape(-1, 1)\n",
    "    p = X.shape[1]\n",
    "    W = np.random.randn(p, 1)\n",
    "    weight_history = [W.copy()]\n",
    "    loss = binary_cross_entropy(X, W, y)\n",
    "    loss_history = [loss] \n",
    "    tol = 1e-8\n",
    "    for e in range(epochs+1):\n",
    "        if e <= 1 or e % 10 == 0:\n",
    "            print(\"epoch={}, loss={}\".format(e, loss))\n",
    "        y_proba = sigmoid_function(X, W).ravel()\n",
    "        D = np.diag(y_proba * (1 - y_proba))\n",
    "        H = hessian_function(X, D, y)\n",
    "        G = gradient_function(X, W, y)\n",
    "        W += np.linalg.inv(-H) @ G \n",
    "        weight_history.append(W.copy())\n",
    "        weights_diff = np.sum(np.abs(weight_history[-1] - weight_history[-2]))\n",
    "        if weights_diff < tol or loss < tol:\n",
    "            break\n",
    "        loss = binary_cross_entropy(X, W, y)\n",
    "        loss_history.append(loss)\n",
    "        \n",
    "    return weight_history ,loss_history"
   ]
  },
  {
   "cell_type": "code",
   "execution_count": 13,
   "metadata": {
    "scrolled": true
   },
   "outputs": [
    {
     "name": "stdout",
     "output_type": "stream",
     "text": [
      "epoch=0, loss=1.0650992227882832\n",
      "epoch=1, loss=0.2787877765445639\n",
      "epoch=10, loss=7.456987528775398e-05\n"
     ]
    }
   ],
   "source": [
    "X = np.c_[np.ones(len(x)), x]\n",
    "weight_history ,loss_history = newtons_method(X, y)"
   ]
  },
  {
   "cell_type": "code",
   "execution_count": 14,
   "metadata": {},
   "outputs": [
    {
     "data": {
      "text/plain": [
       "array([[-85.36498545],\n",
       "       [ 36.72145294]])"
      ]
     },
     "execution_count": 14,
     "metadata": {},
     "output_type": "execute_result"
    }
   ],
   "source": [
    "W = weight_history[-1]\n",
    "W"
   ]
  },
  {
   "cell_type": "markdown",
   "metadata": {},
   "source": [
    "### 成本函数历史"
   ]
  },
  {
   "cell_type": "code",
   "execution_count": 15,
   "metadata": {},
   "outputs": [
    {
     "data": {
      "image/png": "[encoded data removed]",
      "text/plain": [
       "<Figure size 432x288 with 1 Axes>"
      ]
     },
     "metadata": {
      "needs_background": "light"
     },
     "output_type": "display_data"
    }
   ],
   "source": [
    "plt.plot(range(len(loss_history)), loss_history)\n",
    "plt.show()"
   ]
  },
  {
   "cell_type": "markdown",
   "metadata": {},
   "source": [
    "### 参数空间与优化路径"
   ]
  },
  {
   "cell_type": "code",
   "execution_count": 16,
   "metadata": {},
   "outputs": [
    {
     "data": {
      "image/png": "[encoded data removed]",
      "text/plain": [
       "<Figure size 720x576 with 1 Axes>"
      ]
     },
     "metadata": {
      "needs_background": "light"
     },
     "output_type": "display_data"
    }
   ],
   "source": [
    "max_interval = np.abs(np.max(weight_history) - np.min(weight_history))\n",
    "w0n_min = W[0] - max_interval\n",
    "w0n_max = W[0] + max_interval\n",
    "w1n_min = W[1] - max_interval\n",
    "w1n_max = W[1] + max_interval\n",
    "w0n = 1.1 * np.linspace(w0n_min, w0n_max, 150)\n",
    "w1n = 1.1 * np.linspace(w1n_min, w1n_max, 150)\n",
    "ww0n, ww1n = np.meshgrid(w0n, w1n)\n",
    "Wn = np.c_[ww0n.ravel(), ww1n.ravel()]\n",
    "lossn = np.array([binary_cross_entropy(X, w, y) for w in Wn]).reshape(ww0n.shape)\n",
    "w0_path = np.array([w[0] for w in weight_history])\n",
    "w1_path = np.array([w[1] for w in weight_history])\n",
    "\n",
    "plt.figure(figsize=(10, 8))\n",
    "plt.contourf(ww0n, ww1n, lossn)\n",
    "plt.plot(w0_path, w1_path, \".-\", c='r')\n",
    "plt.scatter(W[0], W[1], c='yellow', marker='*', s=120)\n",
    "plt.xlabel(\"w0\")\n",
    "plt.ylabel(\"w1\")\n",
    "plt.show()"
   ]
  },
  {
   "cell_type": "code",
   "execution_count": 17,
   "metadata": {},
   "outputs": [
    {
     "data": {
      "application/vnd.jupyter.widget-view+json": {
       "model_id": "94193ddbf4054a318ace077139b58487",
       "version_major": 2,
       "version_minor": 0
      },
      "text/plain": [
       "VBox(children=(Figure(camera=PerspectiveCamera(fov=46.0, position=(0.0, 0.0, 2.0), quaternion=(0.0, 0.0, 0.0, …"
      ]
     },
     "metadata": {},
     "output_type": "display_data"
    }
   ],
   "source": [
    "loss_path = np.array([binary_cross_entropy(X, w, y) for w in weight_history])\n",
    "\n",
    "plt3d.figure(width=1000, height=500)\n",
    "plt3d.plot_surface(ww0n, lossn, ww1n, color=\"green\")\n",
    "plt3d.scatter(w0_path.ravel(), loss_path, w1_path.ravel(), \n",
    "              marker='sphere', size=3)\n",
    "plt3d.plot(w0_path.ravel(), loss_path, w1_path.ravel())\n",
    "plt3d.scatter(np.array([W[0]]), np.array([loss_history[-1]]), np.array([W[1]]),\n",
    "              color='yellow', size=3)\n",
    "plt3d.xlabel(\"w0\")\n",
    "plt3d.zlabel(\"w1\")\n",
    "plt3d.ylabel(\"loss\")\n",
    "plt3d.show()"
   ]
  },
  {
   "cell_type": "markdown",
   "metadata": {},
   "source": [
    "### 决策点"
   ]
  },
  {
   "cell_type": "code",
   "execution_count": 18,
   "metadata": {},
   "outputs": [
    {
     "data": {
      "image/png": "[encoded data removed]",
      "text/plain": [
       "<Figure size 576x432 with 1 Axes>"
      ]
     },
     "metadata": {
      "needs_background": "light"
     },
     "output_type": "display_data"
    }
   ],
   "source": [
    "xn = np.linspace(x.min(), x.max(), 100)\n",
    "Xn = np.c_[np.ones(len(xn)), xn]\n",
    "yn_pred = sigmoid_function(Xn, W)\n",
    "\n",
    "plt.figure(figsize=(8, 6))\n",
    "plt.scatter(x, y, c=y, cmap=ListedColormap(colors), zorder=3)\n",
    "plt.plot(xn, yn_pred)\n",
    "plt.plot(xn, 1 - yn_pred)\n",
    "plt.show()"
   ]
  },
  {
   "cell_type": "code",
   "execution_count": null,
   "metadata": {},
   "outputs": [],
   "source": []
  }
 ],
 "metadata": {
  "kernelspec": {
   "display_name": "Python 3",
   "language": "python",
   "name": "python3"
  },
  "language_info": {
   "codemirror_mode": {
    "name": "ipython",
    "version": 3
   },
   "file_extension": ".py",
   "mimetype": "text/x-python",
   "name": "python",
   "nbconvert_exporter": "python",
   "pygments_lexer": "ipython3",
   "version": "3.7.3"
  }
 },
 "nbformat": 4,
 "nbformat_minor": 2
}
