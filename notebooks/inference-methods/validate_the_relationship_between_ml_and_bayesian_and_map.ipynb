{
 "cells": [
  {
   "cell_type": "code",
   "execution_count": 36,
   "metadata": {},
   "outputs": [],
   "source": [
    "import numpy as np\n",
    "import matplotlib.pyplot as plt\n",
    "from scipy.stats import norm\n",
    "import seaborn as sns"
   ]
  },
  {
   "cell_type": "markdown",
   "metadata": {},
   "source": [
    "## Data "
   ]
  },
  {
   "cell_type": "code",
   "execution_count": 40,
   "metadata": {},
   "outputs": [],
   "source": [
    "ns = [5, 50, 500]\n",
    "theta_eta = 1 # the value to be estimated\n",
    "sigma_eta = np.sqrt(0.1)\n",
    "ys = []\n",
    "for n in ns:\n",
    "    y = np.random.normal(theta_eta, sigma_eta, n)\n",
    "    ys.append(y)"
   ]
  },
  {
   "cell_type": "markdown",
   "metadata": {},
   "source": [
    "## Approaches"
   ]
  },
  {
   "cell_type": "markdown",
   "metadata": {},
   "source": [
    "### Maximum Likelihood Estimation"
   ]
  },
  {
   "cell_type": "code",
   "execution_count": 7,
   "metadata": {},
   "outputs": [
    {
     "name": "stdout",
     "output_type": "stream",
     "text": [
      "The estimation of theta: 0.9535707796276469\n",
      "The estimation of theta: 0.9780509925695644\n",
      "The estimation of theta: 0.9986525575240776\n"
     ]
    }
   ],
   "source": [
    "for y in ys:\n",
    "    print(\"The estimation of theta: {}\".format(np.mean(y)))"
   ]
  },
  {
   "cell_type": "markdown",
   "metadata": {},
   "source": [
    "### Bayesian Approach"
   ]
  },
  {
   "cell_type": "code",
   "execution_count": 8,
   "metadata": {},
   "outputs": [
    {
     "name": "stdout",
     "output_type": "stream",
     "text": [
      "The estimation of theta: 0.9570472886654288\n",
      "The estimation of theta: 0.9783915287266554\n",
      "The estimation of theta: 0.9986859346595889\n"
     ]
    },
    {
     "data": {
      "image/png": "[encoded data removed]",
      "text/plain": [
       "<Figure size 576x432 with 1 Axes>"
      ]
     },
     "metadata": {
      "needs_background": "light"
     },
     "output_type": "display_data"
    }
   ],
   "source": [
    "plt.figure(figsize=(8, 6))\n",
    "for i,n in enumerate(ns):\n",
    "    y = ys[i]\n",
    "\n",
    "    # prior\n",
    "    theta0 = 2 #\n",
    "    sigma0 = np.sqrt(6)\n",
    "    y_mean = np.mean(y)\n",
    "    \n",
    "    # postorior\n",
    "    thetaN = (n * sigma0**2 * y_mean + sigma_eta**2 * theta0) / \\\n",
    "                (n * sigma0**2 + sigma_eta**2)\n",
    "    sigmaN2 = sigma_eta**2 * sigma0**2 / (n * sigma0**2 + sigma_eta**2)\n",
    "\n",
    "    xn = np.linspace(0.5, 1.5, 100)\n",
    "    pn = norm(thetaN, np.sqrt(sigmaN2)).pdf(xn)\n",
    "    print(\"The estimation of theta: {}\".format(thetaN))\n",
    "    plt.plot(xn, pn, label=\"$n={}, \\mu={:.2f}, \\sigma^2={:.2f}$\".format(n, thetaN, sigmaN2))\n",
    "plt.legend(loc=2)\n",
    "plt.show()"
   ]
  },
  {
   "cell_type": "markdown",
   "metadata": {},
   "source": [
    "### Regularization (Maximum A Posteriori Estimation)"
   ]
  },
  {
   "cell_type": "markdown",
   "metadata": {},
   "source": [
    "#### Given that $\\lambda$ is custom value"
   ]
  },
  {
   "cell_type": "code",
   "execution_count": 24,
   "metadata": {},
   "outputs": [],
   "source": [
    "lamb = 2.0"
   ]
  },
  {
   "cell_type": "markdown",
   "metadata": {},
   "source": [
    "Analytic solution:"
   ]
  },
  {
   "cell_type": "code",
   "execution_count": 25,
   "metadata": {},
   "outputs": [
    {
     "name": "stdout",
     "output_type": "stream",
     "text": [
      "The estimation of theta: 1.148477991102317\n",
      "The estimation of theta: 1.064278922782641\n",
      "The estimation of theta: 0.9972652142874913\n"
     ]
    }
   ],
   "source": [
    "for i,n in enumerate(ns):\n",
    "    y = ys[i]\n",
    "    y_mean = np.mean(y)\n",
    "    theta = (n * y_mean + lamb * theta0) / (n + lamb)\n",
    "    print(\"The estimation of theta: {}\".format(theta))"
   ]
  },
  {
   "cell_type": "markdown",
   "metadata": {},
   "source": [
    "Gradient Descent:"
   ]
  },
  {
   "cell_type": "code",
   "execution_count": 26,
   "metadata": {},
   "outputs": [],
   "source": [
    "def L(theta, theta0, rho=1e-6, lamb=1.0):\n",
    "    return np.sum((y - theta)**2) + lamb * ((theta - theta0)**2 - rho)"
   ]
  },
  {
   "cell_type": "code",
   "execution_count": 27,
   "metadata": {},
   "outputs": [
    {
     "name": "stdout",
     "output_type": "stream",
     "text": [
      "The estimation of theta: 0.012538627421003765\n",
      "The estimation of theta: 0.9863021663478605\n",
      "The estimation of theta: 0.9892111196231338\n"
     ]
    }
   ],
   "source": [
    "theta0 = 2\n",
    "epochs = 1000\n",
    "lr = 0.001\n",
    "theta = np.random.randn(1)[0]\n",
    "sigma_eta = np.sqrt(0.1)\n",
    "for i,n in enumerate(ns):\n",
    "    y = ys[i]\n",
    "    for e in range(epochs):\n",
    "        l = L(theta, theta0, lamb=lamb)\n",
    "        gradient = - 2 * (n * theta - np.sum(y)) + 2 * lamb * (theta - theta0)\n",
    "        theta += lr * gradient\n",
    "    print(\"The estimation of theta: {}\".format(theta))"
   ]
  },
  {
   "cell_type": "markdown",
   "metadata": {},
   "source": [
    "#### Given that $\\lambda =\\frac {\\sigma_{\\eta}^2} {\\sigma_0^2}$, validate a close relationship between priors and regularization"
   ]
  },
  {
   "cell_type": "code",
   "execution_count": 28,
   "metadata": {},
   "outputs": [
    {
     "data": {
      "text/plain": [
       "0.01666666666666667"
      ]
     },
     "execution_count": 28,
     "metadata": {},
     "output_type": "execute_result"
    }
   ],
   "source": [
    "lamb = sigma_eta**2 / sigma0**2\n",
    "lamb"
   ]
  },
  {
   "cell_type": "code",
   "execution_count": 29,
   "metadata": {},
   "outputs": [
    {
     "name": "stdout",
     "output_type": "stream",
     "text": [
      "The estimation of theta: 0.8118297550264892\n",
      "The estimation of theta: 1.027174354908977\n",
      "The estimation of theta: 0.9932878322169008\n"
     ]
    }
   ],
   "source": [
    "for i,n in enumerate(ns):\n",
    "    y = ys[i]\n",
    "    y_mean = np.mean(y)\n",
    "    theta = (n * y_mean + lamb * theta0) / (n + lamb)\n",
    "    print(\"The estimation of theta: {}\".format(theta))"
   ]
  },
  {
   "cell_type": "markdown",
   "metadata": {},
   "source": [
    "### Maximum a Posteriori Probability Estimation"
   ]
  },
  {
   "cell_type": "code",
   "execution_count": 31,
   "metadata": {},
   "outputs": [
    {
     "name": "stdout",
     "output_type": "stream",
     "text": [
      "The estimation of theta: 0.8118297550264892\n",
      "The estimation of theta: 1.027174354908977\n",
      "The estimation of theta: 0.9932878322169008\n"
     ]
    }
   ],
   "source": [
    "for i,n in enumerate(ns):\n",
    "    y = ys[i]\n",
    "    y_mean = np.mean(y)\n",
    "    theta = (n * y_mean + (sigma_eta**2 / sigma0**2) * theta0) /\\\n",
    "            (n + sigma_eta**2 / sigma0**2)\n",
    "    print(\"The estimation of theta: {}\".format(theta))"
   ]
  },
  {
   "cell_type": "markdown",
   "metadata": {},
   "source": [
    "Three results are consistent!"
   ]
  },
  {
   "cell_type": "code",
   "execution_count": 4,
   "metadata": {},
   "outputs": [],
   "source": []
  },
  {
   "cell_type": "code",
   "execution_count": 17,
   "metadata": {},
   "outputs": [
    {
     "name": "stderr",
     "output_type": "stream",
     "text": [
      "Auto-assigning NUTS sampler...\n",
      "Initializing NUTS using jitter+adapt_diag...\n",
      "Multiprocess sampling (2 chains in 2 jobs)\n",
      "NUTS: [mu]\n",
      "Sampling 2 chains, 0 divergences: 100%|█| 3200/3200 [01:44<00:00, 30.74draws/s]\n"
     ]
    }
   ],
   "source": [
    "with pm.Model() as model_g:\n",
    "    mu = pm.Normal('mu', theta0, sigma0)\n",
    "    y = pm.Normal('y', mu=mu, sd=sigma_eta, observed=ys[2])\n",
    "    trace_g = pm.sample(1100)"
   ]
  },
  {
   "cell_type": "code",
   "execution_count": 19,
   "metadata": {},
   "outputs": [
    {
     "data": {
      "image/png": "[encoded data removed]",
      "text/plain": [
       "<Figure size 864x144 with 2 Axes>"
      ]
     },
     "metadata": {
      "needs_background": "light"
     },
     "output_type": "display_data"
    }
   ],
   "source": [
    "chain_g = trace_g[100:]\n",
    "pm.traceplot(chain_g)\n",
    "plt.show()"
   ]
  },
  {
   "cell_type": "code",
   "execution_count": 20,
   "metadata": {},
   "outputs": [
    {
     "data": {
      "text/html": [
       "<div>\n",
       "<style scoped>\n",
       "    .dataframe tbody tr th:only-of-type {\n",
       "        vertical-align: middle;\n",
       "    }\n",
       "\n",
       "    .dataframe tbody tr th {\n",
       "        vertical-align: top;\n",
       "    }\n",
       "\n",
       "    .dataframe thead th {\n",
       "        text-align: right;\n",
       "    }\n",
       "</style>\n",
       "<table border=\"1\" class=\"dataframe\">\n",
       "  <thead>\n",
       "    <tr style=\"text-align: right;\">\n",
       "      <th></th>\n",
       "      <th>mean</th>\n",
       "      <th>sd</th>\n",
       "      <th>hpd_3%</th>\n",
       "      <th>hpd_97%</th>\n",
       "      <th>mcse_mean</th>\n",
       "      <th>mcse_sd</th>\n",
       "      <th>ess_mean</th>\n",
       "      <th>ess_sd</th>\n",
       "      <th>ess_bulk</th>\n",
       "      <th>ess_tail</th>\n",
       "      <th>r_hat</th>\n",
       "    </tr>\n",
       "  </thead>\n",
       "  <tbody>\n",
       "    <tr>\n",
       "      <th>mu</th>\n",
       "      <td>0.998</td>\n",
       "      <td>0.014</td>\n",
       "      <td>0.974</td>\n",
       "      <td>1.024</td>\n",
       "      <td>0.001</td>\n",
       "      <td>0.0</td>\n",
       "      <td>739.0</td>\n",
       "      <td>739.0</td>\n",
       "      <td>741.0</td>\n",
       "      <td>1374.0</td>\n",
       "      <td>1.0</td>\n",
       "    </tr>\n",
       "  </tbody>\n",
       "</table>\n",
       "</div>"
      ],
      "text/plain": [
       "     mean     sd  hpd_3%  hpd_97%  mcse_mean  mcse_sd  ess_mean  ess_sd  \\\n",
       "mu  0.998  0.014   0.974    1.024      0.001      0.0     739.0   739.0   \n",
       "\n",
       "    ess_bulk  ess_tail  r_hat  \n",
       "mu     741.0    1374.0    1.0  "
      ]
     },
     "execution_count": 20,
     "metadata": {},
     "output_type": "execute_result"
    }
   ],
   "source": [
    "pm.summary(chain_g)"
   ]
  },
  {
   "cell_type": "code",
   "execution_count": null,
   "metadata": {},
   "outputs": [],
   "source": []
  }
 ],
 "metadata": {
  "kernelspec": {
   "display_name": "Python 3",
   "language": "python",
   "name": "python3"
  },
  "language_info": {
   "codemirror_mode": {
    "name": "ipython",
    "version": 3
   },
   "file_extension": ".py",
   "mimetype": "text/x-python",
   "name": "python",
   "nbconvert_exporter": "python",
   "pygments_lexer": "ipython3",
   "version": "3.7.3"
  }
 },
 "nbformat": 4,
 "nbformat_minor": 2
}
